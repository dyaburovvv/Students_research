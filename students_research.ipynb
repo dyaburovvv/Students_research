{
 "cells": [
  {
   "cell_type": "code",
   "execution_count": 1,
   "metadata": {},
   "outputs": [],
   "source": [
    "import pandas as pd\n",
    "import seaborn as sns\n",
    "import numpy as np\n",
    "import matplotlib.pyplot as plt"
   ]
  },
  {
   "cell_type": "code",
   "execution_count": 2,
   "metadata": {},
   "outputs": [],
   "source": [
    "df1 = pd.read_csv('assessments.csv')\n",
    "df2 = pd.read_csv('courses.csv')\n",
    "df3 = pd.read_csv('studentAssessment.csv')\n",
    "df4 = pd.read_csv('studentRegistration.csv')"
   ]
  },
  {
   "cell_type": "markdown",
   "metadata": {},
   "source": [
    "## Задание 1: Сколько студентов успешно сдали только один курс?"
   ]
  },
  {
   "cell_type": "code",
   "execution_count": 99,
   "metadata": {},
   "outputs": [],
   "source": [
    "# создаю необходимый для решения задания датафрейм\n",
    "\n",
    "full_data = df1.merge(df3, how = 'right',  on = 'id_assessment' ).merge(df4, how = 'right')"
   ]
  },
  {
   "cell_type": "code",
   "execution_count": 100,
   "metadata": {},
   "outputs": [
    {
     "data": {
      "text/html": [
       "<div>\n",
       "<style scoped>\n",
       "    .dataframe tbody tr th:only-of-type {\n",
       "        vertical-align: middle;\n",
       "    }\n",
       "\n",
       "    .dataframe tbody tr th {\n",
       "        vertical-align: top;\n",
       "    }\n",
       "\n",
       "    .dataframe thead th {\n",
       "        text-align: right;\n",
       "    }\n",
       "</style>\n",
       "<table border=\"1\" class=\"dataframe\">\n",
       "  <thead>\n",
       "    <tr style=\"text-align: right;\">\n",
       "      <th></th>\n",
       "      <th>code_module</th>\n",
       "      <th>code_presentation</th>\n",
       "      <th>id_assessment</th>\n",
       "      <th>assessment_type</th>\n",
       "      <th>date</th>\n",
       "      <th>weight</th>\n",
       "      <th>id_student</th>\n",
       "      <th>date_submitted</th>\n",
       "      <th>is_banked</th>\n",
       "      <th>score</th>\n",
       "      <th>date_registration</th>\n",
       "      <th>date_unregistration</th>\n",
       "    </tr>\n",
       "  </thead>\n",
       "  <tbody>\n",
       "    <tr>\n",
       "      <th>0</th>\n",
       "      <td>AAA</td>\n",
       "      <td>2013J</td>\n",
       "      <td>1752.0</td>\n",
       "      <td>TMA</td>\n",
       "      <td>19.0</td>\n",
       "      <td>10.0</td>\n",
       "      <td>11391</td>\n",
       "      <td>18.0</td>\n",
       "      <td>0.0</td>\n",
       "      <td>78.0</td>\n",
       "      <td>-159.0</td>\n",
       "      <td>NaN</td>\n",
       "    </tr>\n",
       "    <tr>\n",
       "      <th>1</th>\n",
       "      <td>AAA</td>\n",
       "      <td>2013J</td>\n",
       "      <td>1753.0</td>\n",
       "      <td>TMA</td>\n",
       "      <td>54.0</td>\n",
       "      <td>20.0</td>\n",
       "      <td>11391</td>\n",
       "      <td>53.0</td>\n",
       "      <td>0.0</td>\n",
       "      <td>85.0</td>\n",
       "      <td>-159.0</td>\n",
       "      <td>NaN</td>\n",
       "    </tr>\n",
       "    <tr>\n",
       "      <th>2</th>\n",
       "      <td>AAA</td>\n",
       "      <td>2013J</td>\n",
       "      <td>1754.0</td>\n",
       "      <td>TMA</td>\n",
       "      <td>117.0</td>\n",
       "      <td>20.0</td>\n",
       "      <td>11391</td>\n",
       "      <td>115.0</td>\n",
       "      <td>0.0</td>\n",
       "      <td>80.0</td>\n",
       "      <td>-159.0</td>\n",
       "      <td>NaN</td>\n",
       "    </tr>\n",
       "    <tr>\n",
       "      <th>3</th>\n",
       "      <td>AAA</td>\n",
       "      <td>2013J</td>\n",
       "      <td>1755.0</td>\n",
       "      <td>TMA</td>\n",
       "      <td>166.0</td>\n",
       "      <td>20.0</td>\n",
       "      <td>11391</td>\n",
       "      <td>164.0</td>\n",
       "      <td>0.0</td>\n",
       "      <td>85.0</td>\n",
       "      <td>-159.0</td>\n",
       "      <td>NaN</td>\n",
       "    </tr>\n",
       "    <tr>\n",
       "      <th>4</th>\n",
       "      <td>AAA</td>\n",
       "      <td>2013J</td>\n",
       "      <td>1756.0</td>\n",
       "      <td>TMA</td>\n",
       "      <td>215.0</td>\n",
       "      <td>30.0</td>\n",
       "      <td>11391</td>\n",
       "      <td>212.0</td>\n",
       "      <td>0.0</td>\n",
       "      <td>82.0</td>\n",
       "      <td>-159.0</td>\n",
       "      <td>NaN</td>\n",
       "    </tr>\n",
       "  </tbody>\n",
       "</table>\n",
       "</div>"
      ],
      "text/plain": [
       "  code_module code_presentation  id_assessment assessment_type   date  weight  \\\n",
       "0         AAA             2013J         1752.0             TMA   19.0    10.0   \n",
       "1         AAA             2013J         1753.0             TMA   54.0    20.0   \n",
       "2         AAA             2013J         1754.0             TMA  117.0    20.0   \n",
       "3         AAA             2013J         1755.0             TMA  166.0    20.0   \n",
       "4         AAA             2013J         1756.0             TMA  215.0    30.0   \n",
       "\n",
       "   id_student  date_submitted  is_banked  score  date_registration  \\\n",
       "0       11391            18.0        0.0   78.0             -159.0   \n",
       "1       11391            53.0        0.0   85.0             -159.0   \n",
       "2       11391           115.0        0.0   80.0             -159.0   \n",
       "3       11391           164.0        0.0   85.0             -159.0   \n",
       "4       11391           212.0        0.0   82.0             -159.0   \n",
       "\n",
       "   date_unregistration  \n",
       "0                  NaN  \n",
       "1                  NaN  \n",
       "2                  NaN  \n",
       "3                  NaN  \n",
       "4                  NaN  "
      ]
     },
     "execution_count": 100,
     "metadata": {},
     "output_type": "execute_result"
    }
   ],
   "source": [
    "full_data.head()"
   ]
  },
  {
   "cell_type": "code",
   "execution_count": 101,
   "metadata": {},
   "outputs": [
    {
     "data": {
      "text/html": [
       "<div>\n",
       "<style scoped>\n",
       "    .dataframe tbody tr th:only-of-type {\n",
       "        vertical-align: middle;\n",
       "    }\n",
       "\n",
       "    .dataframe tbody tr th {\n",
       "        vertical-align: top;\n",
       "    }\n",
       "\n",
       "    .dataframe thead th {\n",
       "        text-align: right;\n",
       "    }\n",
       "</style>\n",
       "<table border=\"1\" class=\"dataframe\">\n",
       "  <thead>\n",
       "    <tr style=\"text-align: right;\">\n",
       "      <th></th>\n",
       "      <th>code_module</th>\n",
       "      <th>code_presentation</th>\n",
       "      <th>id_assessment</th>\n",
       "      <th>assessment_type</th>\n",
       "      <th>date</th>\n",
       "      <th>weight</th>\n",
       "      <th>id_student</th>\n",
       "      <th>date_submitted</th>\n",
       "      <th>is_banked</th>\n",
       "      <th>score</th>\n",
       "      <th>date_registration</th>\n",
       "      <th>date_unregistration</th>\n",
       "    </tr>\n",
       "  </thead>\n",
       "  <tbody>\n",
       "  </tbody>\n",
       "</table>\n",
       "</div>"
      ],
      "text/plain": [
       "Empty DataFrame\n",
       "Columns: [code_module, code_presentation, id_assessment, assessment_type, date, weight, id_student, date_submitted, is_banked, score, date_registration, date_unregistration]\n",
       "Index: []"
      ]
     },
     "execution_count": 101,
     "metadata": {},
     "output_type": "execute_result"
    }
   ],
   "source": [
    "# проверяем, что экзамен не перезачелся ни одному студенту, значит этих студентов можно не учитывать в расчете\n",
    "\n",
    "full_data.query(\"assessment_type == 'Exam' and is_banked == 1\")"
   ]
  },
  {
   "cell_type": "code",
   "execution_count": 6,
   "metadata": {},
   "outputs": [],
   "source": [
    "# создаем датафрейм со студентами, которые сдали хотя бы 1 экзамен и считаем, сколько раз в списке встретился студент\n",
    "\n",
    "students = full_data.query(\"assessment_type == 'Exam' and score >= 40\").value_counts('id_student').reset_index()"
   ]
  },
  {
   "cell_type": "code",
   "execution_count": 7,
   "metadata": {},
   "outputs": [],
   "source": [
    "# корректно обозначаем результирующую колонку\n",
    "\n",
    "students.columns = ['id_student', 'good_attempts']"
   ]
  },
  {
   "cell_type": "code",
   "execution_count": 8,
   "metadata": {},
   "outputs": [],
   "source": [
    "# отбираем студентов, сдавших только 1 экзамен\n",
    "\n",
    "one_exam_students = students.query(\"good_attempts == 1\")"
   ]
  },
  {
   "cell_type": "code",
   "execution_count": 9,
   "metadata": {},
   "outputs": [
    {
     "data": {
      "text/plain": [
       "3802"
      ]
     },
     "execution_count": 9,
     "metadata": {},
     "output_type": "execute_result"
    }
   ],
   "source": [
    "# считаем количество таких студентов\n",
    "\n",
    "one_exam_students['good_attempts'].sum()"
   ]
  },
  {
   "cell_type": "markdown",
   "metadata": {},
   "source": [
    "## Вывод:\n",
    "\n",
    "**Сдали только 1 экзамен 3802 студента**\n",
    "\n"
   ]
  },
  {
   "cell_type": "markdown",
   "metadata": {},
   "source": []
  },
  {
   "cell_type": "markdown",
   "metadata": {},
   "source": [
    "## Задание 2: Выяви самый сложный и самый простой экзамен: найди курсы и экзамены в рамках курса, которые обладают самой низкой и самой высокой завершаемостью"
   ]
  },
  {
   "cell_type": "code",
   "execution_count": 10,
   "metadata": {},
   "outputs": [],
   "source": [
    "# количество всех попыток сдать экзамен с группировкой по коду предметов (курсов) и коду экзамена\n",
    "\n",
    "df_exams_full = full_data.query( \"assessment_type == 'Exam'\").groupby(['code_module', 'id_assessment']).agg({'id_student':'count'}).reset_index()"
   ]
  },
  {
   "cell_type": "code",
   "execution_count": 11,
   "metadata": {},
   "outputs": [],
   "source": [
    "# количество успешных попыток сдать экзамен с группировкой по коду предметов (курсов) и коду экзамена\n",
    "\n",
    "df_exams_complete = full_data.query( \"assessment_type == 'Exam' and score >= 40\").groupby(['code_module', 'id_assessment']).agg({'id_student':'count'}).reset_index()"
   ]
  },
  {
   "cell_type": "code",
   "execution_count": 109,
   "metadata": {},
   "outputs": [],
   "source": [
    "df_exams_full = df_exams_full.rename(columns = {'id_student':'attempts'}) # присваиваю корректное название колонке"
   ]
  },
  {
   "cell_type": "code",
   "execution_count": 13,
   "metadata": {},
   "outputs": [],
   "source": [
    "df_exams_complete = df_exams_complete.rename(columns = {'id_student':'good_attempts'}) # присваиваю корректное название колонке"
   ]
  },
  {
   "cell_type": "code",
   "execution_count": 14,
   "metadata": {},
   "outputs": [],
   "source": [
    "# соединяем таблички в одну для удобства\n",
    "\n",
    "df_exams_attempts = df_exams_complete.merge(df_exams_full, how = 'inner', on=['code_module','id_assessment']) "
   ]
  },
  {
   "cell_type": "code",
   "execution_count": 15,
   "metadata": {},
   "outputs": [],
   "source": [
    "# создаем колонку с завершаемостью\n",
    "\n",
    "df_exams_attempts['completion'] = (df_exams_attempts.good_attempts/df_exams_attempts.attempts).round(2)"
   ]
  },
  {
   "cell_type": "code",
   "execution_count": 16,
   "metadata": {},
   "outputs": [
    {
     "data": {
      "text/html": [
       "<div>\n",
       "<style scoped>\n",
       "    .dataframe tbody tr th:only-of-type {\n",
       "        vertical-align: middle;\n",
       "    }\n",
       "\n",
       "    .dataframe tbody tr th {\n",
       "        vertical-align: top;\n",
       "    }\n",
       "\n",
       "    .dataframe thead th {\n",
       "        text-align: right;\n",
       "    }\n",
       "</style>\n",
       "<table border=\"1\" class=\"dataframe\">\n",
       "  <thead>\n",
       "    <tr style=\"text-align: right;\">\n",
       "      <th></th>\n",
       "      <th>code_module</th>\n",
       "      <th>id_assessment</th>\n",
       "      <th>good_attempts</th>\n",
       "      <th>attempts</th>\n",
       "      <th>completion</th>\n",
       "    </tr>\n",
       "  </thead>\n",
       "  <tbody>\n",
       "    <tr>\n",
       "      <th>4</th>\n",
       "      <td>DDD</td>\n",
       "      <td>25361.0</td>\n",
       "      <td>485</td>\n",
       "      <td>524</td>\n",
       "      <td>0.93</td>\n",
       "    </tr>\n",
       "    <tr>\n",
       "      <th>3</th>\n",
       "      <td>DDD</td>\n",
       "      <td>25354.0</td>\n",
       "      <td>878</td>\n",
       "      <td>968</td>\n",
       "      <td>0.91</td>\n",
       "    </tr>\n",
       "    <tr>\n",
       "      <th>0</th>\n",
       "      <td>CCC</td>\n",
       "      <td>24290.0</td>\n",
       "      <td>664</td>\n",
       "      <td>747</td>\n",
       "      <td>0.89</td>\n",
       "    </tr>\n",
       "    <tr>\n",
       "      <th>5</th>\n",
       "      <td>DDD</td>\n",
       "      <td>25368.0</td>\n",
       "      <td>842</td>\n",
       "      <td>950</td>\n",
       "      <td>0.89</td>\n",
       "    </tr>\n",
       "    <tr>\n",
       "      <th>1</th>\n",
       "      <td>CCC</td>\n",
       "      <td>24299.0</td>\n",
       "      <td>1019</td>\n",
       "      <td>1168</td>\n",
       "      <td>0.87</td>\n",
       "    </tr>\n",
       "    <tr>\n",
       "      <th>2</th>\n",
       "      <td>DDD</td>\n",
       "      <td>25340.0</td>\n",
       "      <td>504</td>\n",
       "      <td>602</td>\n",
       "      <td>0.84</td>\n",
       "    </tr>\n",
       "  </tbody>\n",
       "</table>\n",
       "</div>"
      ],
      "text/plain": [
       "  code_module  id_assessment  good_attempts  attempts  completion\n",
       "4         DDD        25361.0            485       524        0.93\n",
       "3         DDD        25354.0            878       968        0.91\n",
       "0         CCC        24290.0            664       747        0.89\n",
       "5         DDD        25368.0            842       950        0.89\n",
       "1         CCC        24299.0           1019      1168        0.87\n",
       "2         DDD        25340.0            504       602        0.84"
      ]
     },
     "execution_count": 16,
     "metadata": {},
     "output_type": "execute_result"
    }
   ],
   "source": [
    "df_exams_attempts.sort_values('completion', ascending = False)"
   ]
  },
  {
   "cell_type": "markdown",
   "metadata": {},
   "source": [
    "## Вывод:\n",
    "\n",
    "**Экзамены проводятся только по предметам с кодами CCC и DDD**\n",
    "\n",
    "Для курса с кодом **CCC** самым сложным оказался экзамен с кодом **24299** (его показатель завершаемости равен **0.87**), а самым простым экзамен с кодом **24290** (его показатель завершаемости равен **0.89**). \n",
    "\n",
    "Для курса с кодом **DDD** самым сложным оказался экзамен с кодом **25340** (его показатель завершаемости равен **0.84**), а самым простым экзамен с кодом **25361** (его показатель завершаемости равен **0.93**)"
   ]
  },
  {
   "cell_type": "markdown",
   "metadata": {},
   "source": []
  },
  {
   "cell_type": "markdown",
   "metadata": {},
   "source": [
    "## Задание 3: По каждому предмету определи средний срок сдачи экзаменов (под сдачей понимаем последнее успешное прохождение экзамена студентом)"
   ]
  },
  {
   "cell_type": "code",
   "execution_count": 17,
   "metadata": {},
   "outputs": [],
   "source": [
    "# срок сдачи теста студентом, измеряемый как количество дней с начала семестра отражен в столбце date_submitted"
   ]
  },
  {
   "cell_type": "code",
   "execution_count": 18,
   "metadata": {},
   "outputs": [],
   "source": [
    "# создаем датафрейм со всеми успешными попытками сдать экзамен, так как успешно сданный экзамен уже является последним\n",
    "\n",
    "last_exams = full_data.query( \"assessment_type == 'Exam' and score >= 40\")"
   ]
  },
  {
   "cell_type": "code",
   "execution_count": 19,
   "metadata": {},
   "outputs": [],
   "source": [
    "# группируем данные по предмету и экзамену и считаем средний срок сдачи экзамена\n",
    "\n",
    "mean_date = last_exams.groupby(['code_module', 'id_assessment']).agg({'date_submitted':'mean'}).round(1).sort_values('date_submitted', ascending = True).reset_index()"
   ]
  },
  {
   "cell_type": "code",
   "execution_count": 20,
   "metadata": {},
   "outputs": [
    {
     "data": {
      "text/html": [
       "<div>\n",
       "<style scoped>\n",
       "    .dataframe tbody tr th:only-of-type {\n",
       "        vertical-align: middle;\n",
       "    }\n",
       "\n",
       "    .dataframe tbody tr th {\n",
       "        vertical-align: top;\n",
       "    }\n",
       "\n",
       "    .dataframe thead th {\n",
       "        text-align: right;\n",
       "    }\n",
       "</style>\n",
       "<table border=\"1\" class=\"dataframe\">\n",
       "  <thead>\n",
       "    <tr style=\"text-align: right;\">\n",
       "      <th></th>\n",
       "      <th>code_module</th>\n",
       "      <th>id_assessment</th>\n",
       "      <th>date_submitted</th>\n",
       "    </tr>\n",
       "  </thead>\n",
       "  <tbody>\n",
       "    <tr>\n",
       "      <th>0</th>\n",
       "      <td>DDD</td>\n",
       "      <td>25340.0</td>\n",
       "      <td>230.2</td>\n",
       "    </tr>\n",
       "    <tr>\n",
       "      <th>1</th>\n",
       "      <td>CCC</td>\n",
       "      <td>24290.0</td>\n",
       "      <td>231.6</td>\n",
       "    </tr>\n",
       "    <tr>\n",
       "      <th>2</th>\n",
       "      <td>DDD</td>\n",
       "      <td>25361.0</td>\n",
       "      <td>234.9</td>\n",
       "    </tr>\n",
       "    <tr>\n",
       "      <th>3</th>\n",
       "      <td>DDD</td>\n",
       "      <td>25354.0</td>\n",
       "      <td>239.5</td>\n",
       "    </tr>\n",
       "    <tr>\n",
       "      <th>4</th>\n",
       "      <td>DDD</td>\n",
       "      <td>25368.0</td>\n",
       "      <td>242.8</td>\n",
       "    </tr>\n",
       "    <tr>\n",
       "      <th>5</th>\n",
       "      <td>CCC</td>\n",
       "      <td>24299.0</td>\n",
       "      <td>244.4</td>\n",
       "    </tr>\n",
       "  </tbody>\n",
       "</table>\n",
       "</div>"
      ],
      "text/plain": [
       "  code_module  id_assessment  date_submitted\n",
       "0         DDD        25340.0           230.2\n",
       "1         CCC        24290.0           231.6\n",
       "2         DDD        25361.0           234.9\n",
       "3         DDD        25354.0           239.5\n",
       "4         DDD        25368.0           242.8\n",
       "5         CCC        24299.0           244.4"
      ]
     },
     "execution_count": 20,
     "metadata": {},
     "output_type": "execute_result"
    }
   ],
   "source": [
    "mean_date"
   ]
  },
  {
   "cell_type": "markdown",
   "metadata": {},
   "source": [
    "## Вывод:\n",
    "\n",
    "Для курса с кодом **CCC** минимальный срок сдачи экзамена зафиксирован для экзамена с номером **24290**, \n",
    "что логично, ведь в прошлом задании мы выяснили, что этот экзамен оказался самым простым в курсе. Максимальное время сдачи экзамена зафиксировано для теста с номером **24299**, что тоже логично, ведь он является самым сложным в курсе. \n",
    "\n",
    "Для курса с кодом **DDD** минимальный срок сдачи экзамена зафиксирован для экзамена с номером **25340**, \n",
    "что нетипично, ведь в прошлом задании мы выяснили, что этот экзамен оказался самым сложным в курсе. Максимальное время сдачи экзамена зафиксировано для теста с номером **25368**, что вполне логично, ведь он является вторым по сложности в курсе.\n",
    "\n",
    "\n"
   ]
  },
  {
   "cell_type": "markdown",
   "metadata": {},
   "source": []
  },
  {
   "cell_type": "markdown",
   "metadata": {},
   "source": [
    "## Задание 4: Выяви самые популярные предметы (ТОП-3) по количеству регистраций на них. А также предметы с самым большим оттоком (ТОП-3)."
   ]
  },
  {
   "cell_type": "markdown",
   "metadata": {},
   "source": [
    "### **В процессе анализа данных я обнаружил, что некоторые студенты имеют NaN значение в поле date_registration и решил с этим разобраться, пришел к следующим выводам:**\n",
    "\n",
    "- Колонка **date_unregistration** отражает то, что студент отменил регистрацию (либо окончил курс при NaN-значении), это означает, что студент в любом случае регистрировался на курсе, так как незарегистрированный пользователь не может отменить регистрацию и тем более окончить курс\n",
    "\n",
    "- В расчете решил учитывать NaN-значения поля **date_registration** вне зависимости от значения в поле **date_unregistration** так как считаю, что мы выявляем популярность предмета, а сам факт регистрации на нем (пусть и с последующей отменой) показывает, что курс интересен студентам\n",
    "\n",
    "- Также, пришел к выводу о том, что чаще всего NaN-значения поля **date_registration** возникают в случае, когда студент проходил обучение на курсе в другом семестре. Вероятно, механизм регистрации на сайте курса был недостаточно отлажен и логи с датой регистрации пользователей записывались с ошибками, что приводило к появлению NaN-значений\n",
    "\n"
   ]
  },
  {
   "cell_type": "code",
   "execution_count": 21,
   "metadata": {},
   "outputs": [
    {
     "data": {
      "text/html": [
       "<div>\n",
       "<style scoped>\n",
       "    .dataframe tbody tr th:only-of-type {\n",
       "        vertical-align: middle;\n",
       "    }\n",
       "\n",
       "    .dataframe tbody tr th {\n",
       "        vertical-align: top;\n",
       "    }\n",
       "\n",
       "    .dataframe thead th {\n",
       "        text-align: right;\n",
       "    }\n",
       "</style>\n",
       "<table border=\"1\" class=\"dataframe\">\n",
       "  <thead>\n",
       "    <tr style=\"text-align: right;\">\n",
       "      <th></th>\n",
       "      <th>code_module</th>\n",
       "      <th>date_registration</th>\n",
       "    </tr>\n",
       "  </thead>\n",
       "  <tbody>\n",
       "    <tr>\n",
       "      <th>0</th>\n",
       "      <td>BBB</td>\n",
       "      <td>7900</td>\n",
       "    </tr>\n",
       "    <tr>\n",
       "      <th>1</th>\n",
       "      <td>FFF</td>\n",
       "      <td>7751</td>\n",
       "    </tr>\n",
       "    <tr>\n",
       "      <th>2</th>\n",
       "      <td>DDD</td>\n",
       "      <td>6257</td>\n",
       "    </tr>\n",
       "  </tbody>\n",
       "</table>\n",
       "</div>"
      ],
      "text/plain": [
       "  code_module  date_registration\n",
       "0         BBB               7900\n",
       "1         FFF               7751\n",
       "2         DDD               6257"
      ]
     },
     "execution_count": 21,
     "metadata": {},
     "output_type": "execute_result"
    }
   ],
   "source": [
    "# считаем количество регистраций по каждому курсу и выводим ТОП-3 по количеству регистраций\n",
    "\n",
    "df4.groupby('code_module')\\\n",
    "   .agg({'date_registration':'count'})\\\n",
    "   .sort_values('date_registration', ascending = False)\\\n",
    "   .reset_index()\\\n",
    "   .head(3)"
   ]
  },
  {
   "cell_type": "markdown",
   "metadata": {},
   "source": [
    "### Данные в столбце **date_unregistration** также имеют NaN-значения, но, по условию, это означает, что студент окончил курс. NaN-значения поля **date_unregistration** не являются показателем оттока студентов с курса, а поэтому учитываться **не будут**"
   ]
  },
  {
   "cell_type": "code",
   "execution_count": 22,
   "metadata": {},
   "outputs": [
    {
     "data": {
      "text/html": [
       "<div>\n",
       "<style scoped>\n",
       "    .dataframe tbody tr th:only-of-type {\n",
       "        vertical-align: middle;\n",
       "    }\n",
       "\n",
       "    .dataframe tbody tr th {\n",
       "        vertical-align: top;\n",
       "    }\n",
       "\n",
       "    .dataframe thead th {\n",
       "        text-align: right;\n",
       "    }\n",
       "</style>\n",
       "<table border=\"1\" class=\"dataframe\">\n",
       "  <thead>\n",
       "    <tr style=\"text-align: right;\">\n",
       "      <th></th>\n",
       "      <th>code_module</th>\n",
       "      <th>date_unregistration</th>\n",
       "    </tr>\n",
       "  </thead>\n",
       "  <tbody>\n",
       "    <tr>\n",
       "      <th>0</th>\n",
       "      <td>FFF</td>\n",
       "      <td>2380</td>\n",
       "    </tr>\n",
       "    <tr>\n",
       "      <th>1</th>\n",
       "      <td>BBB</td>\n",
       "      <td>2377</td>\n",
       "    </tr>\n",
       "    <tr>\n",
       "      <th>2</th>\n",
       "      <td>DDD</td>\n",
       "      <td>2235</td>\n",
       "    </tr>\n",
       "  </tbody>\n",
       "</table>\n",
       "</div>"
      ],
      "text/plain": [
       "  code_module  date_unregistration\n",
       "0         FFF                 2380\n",
       "1         BBB                 2377\n",
       "2         DDD                 2235"
      ]
     },
     "execution_count": 22,
     "metadata": {},
     "output_type": "execute_result"
    }
   ],
   "source": [
    "# отбираем нужные значение и считаем количество отмененных регистраций по каждому курсу, \n",
    "# выводим ТОП-3 по отменам\n",
    "\n",
    "df4.query(\"date_unregistration != 'NaN'\")\\\n",
    "   .groupby('code_module')\\\n",
    "   .agg({'date_unregistration':'count'})\\\n",
    "   .sort_values('date_unregistration', ascending = False)\\\n",
    "   .reset_index()\\\n",
    "   .head(3)"
   ]
  },
  {
   "cell_type": "markdown",
   "metadata": {},
   "source": [
    "## Вывод:\n",
    "\n",
    "На курс **BBB** зарегистрировалось наибольшее количество студентов, а именно 7900 человек\n",
    "\n",
    "На курс **FFF** отменило регистрацию наибольшее количество студентов, а именно 2380 человек"
   ]
  },
  {
   "cell_type": "markdown",
   "metadata": {},
   "source": []
  },
  {
   "cell_type": "markdown",
   "metadata": {},
   "source": [
    "## Задание 5: В период с начала 2013 по конец 2014 выяви семестр с самой низкой завершаемостью курсов и самыми долгими средними сроками сдачи курсов."
   ]
  },
  {
   "cell_type": "markdown",
   "metadata": {},
   "source": [
    "Известно, что курс считается завершенным, если по нему получен зачет за экзамен, поэтому отфильтруем данные по попыткам сдать экзамен"
   ]
  },
  {
   "cell_type": "code",
   "execution_count": 23,
   "metadata": {},
   "outputs": [],
   "source": [
    "df_assessments = df1.merge(df3, how = 'right', on = 'id_assessment')"
   ]
  },
  {
   "cell_type": "code",
   "execution_count": 24,
   "metadata": {},
   "outputs": [
    {
     "data": {
      "text/html": [
       "<div>\n",
       "<style scoped>\n",
       "    .dataframe tbody tr th:only-of-type {\n",
       "        vertical-align: middle;\n",
       "    }\n",
       "\n",
       "    .dataframe tbody tr th {\n",
       "        vertical-align: top;\n",
       "    }\n",
       "\n",
       "    .dataframe thead th {\n",
       "        text-align: right;\n",
       "    }\n",
       "</style>\n",
       "<table border=\"1\" class=\"dataframe\">\n",
       "  <thead>\n",
       "    <tr style=\"text-align: right;\">\n",
       "      <th></th>\n",
       "      <th>code_module</th>\n",
       "      <th>code_presentation</th>\n",
       "      <th>id_assessment</th>\n",
       "      <th>assessment_type</th>\n",
       "      <th>date</th>\n",
       "      <th>weight</th>\n",
       "      <th>id_student</th>\n",
       "      <th>date_submitted</th>\n",
       "      <th>is_banked</th>\n",
       "      <th>score</th>\n",
       "    </tr>\n",
       "  </thead>\n",
       "  <tbody>\n",
       "  </tbody>\n",
       "</table>\n",
       "</div>"
      ],
      "text/plain": [
       "Empty DataFrame\n",
       "Columns: [code_module, code_presentation, id_assessment, assessment_type, date, weight, id_student, date_submitted, is_banked, score]\n",
       "Index: []"
      ]
     },
     "execution_count": 24,
     "metadata": {},
     "output_type": "execute_result"
    }
   ],
   "source": [
    "# проверяем, что экзамен не перезачелся ни одному студенту, значит этих студентов можно не учитывать в расчете\n",
    "\n",
    "df_assessments.query(\"assessment_type == 'Exam' and is_banked == 1\")"
   ]
  },
  {
   "cell_type": "code",
   "execution_count": 102,
   "metadata": {},
   "outputs": [],
   "source": [
    "# создаем датафрейм со всеми попытками сдать экзамены\n",
    "\n",
    "df_exam_allattempts = df_assessments.query(\"assessment_type == 'Exam'\")\\\n",
    "                                    .groupby('code_presentation')\\\n",
    "                                    .agg({'score':'count'})\\\n",
    "                                    .reset_index()"
   ]
  },
  {
   "cell_type": "code",
   "execution_count": 103,
   "metadata": {},
   "outputs": [],
   "source": [
    "# создаем датафрейм со всеми УСПЕШНЫМИ попытками сдать экзамены\n",
    "\n",
    "df_exam_goodattempts = df_assessments.query(\"assessment_type == 'Exam' and score >= 40\")\\\n",
    "                                     .groupby('code_presentation')\\\n",
    "                                     .agg({'score':'count'})\\\n",
    "                                     .reset_index()"
   ]
  },
  {
   "cell_type": "code",
   "execution_count": 107,
   "metadata": {},
   "outputs": [],
   "source": [
    "# создаем датафрейм в котором считаем среднее время СДАЧИ экзаменов по курсу\n",
    "\n",
    "df_dates = df_assessments.query(\"assessment_type == 'Exam' and score >= 40\")\\\n",
    "              .groupby('code_presentation')\\\n",
    "              .agg({'date_submitted':'mean'})\\\n",
    "              .round(2)\\\n",
    "              .reset_index()"
   ]
  },
  {
   "cell_type": "code",
   "execution_count": 160,
   "metadata": {},
   "outputs": [],
   "source": [
    "# объединяем полученные таблицы в одну для удобства интерпретации данных\n",
    "\n",
    "df_for_step = df_exam_allattempts\\\n",
    "              .merge(df_exam_goodattempts, on='code_presentation')\\\n",
    "              .merge(df_dates, on='code_presentation')"
   ]
  },
  {
   "cell_type": "code",
   "execution_count": 111,
   "metadata": {},
   "outputs": [],
   "source": [
    "df_for_step = df_for_step.rename(columns = {'score_x':'attempts'}) # присваиваю корректное название колонке"
   ]
  },
  {
   "cell_type": "code",
   "execution_count": 112,
   "metadata": {},
   "outputs": [],
   "source": [
    "df_for_step = df_for_step.rename(columns = {'score_y':'good_attempts'}) # присваиваю корректное название колонке"
   ]
  },
  {
   "cell_type": "code",
   "execution_count": 113,
   "metadata": {},
   "outputs": [],
   "source": [
    "# считаем завершаемость, для более интуитивной интерпретации перевожу значения в проценты\n",
    "\n",
    "df_for_step['completion'] = (df_for_step.good_attempts / df_for_step.attempts)*100"
   ]
  },
  {
   "cell_type": "code",
   "execution_count": 115,
   "metadata": {},
   "outputs": [
    {
     "data": {
      "text/html": [
       "<div>\n",
       "<style scoped>\n",
       "    .dataframe tbody tr th:only-of-type {\n",
       "        vertical-align: middle;\n",
       "    }\n",
       "\n",
       "    .dataframe tbody tr th {\n",
       "        vertical-align: top;\n",
       "    }\n",
       "\n",
       "    .dataframe thead th {\n",
       "        text-align: right;\n",
       "    }\n",
       "</style>\n",
       "<table border=\"1\" class=\"dataframe\">\n",
       "  <thead>\n",
       "    <tr style=\"text-align: right;\">\n",
       "      <th></th>\n",
       "      <th>code_presentation</th>\n",
       "      <th>attempts</th>\n",
       "      <th>good_attempts</th>\n",
       "      <th>date_submitted</th>\n",
       "      <th>completion</th>\n",
       "    </tr>\n",
       "  </thead>\n",
       "  <tbody>\n",
       "    <tr>\n",
       "      <th>3</th>\n",
       "      <td>2014J</td>\n",
       "      <td>2118</td>\n",
       "      <td>1861</td>\n",
       "      <td>243.68</td>\n",
       "      <td>87.865911</td>\n",
       "    </tr>\n",
       "    <tr>\n",
       "      <th>1</th>\n",
       "      <td>2013J</td>\n",
       "      <td>968</td>\n",
       "      <td>878</td>\n",
       "      <td>239.51</td>\n",
       "      <td>90.702479</td>\n",
       "    </tr>\n",
       "    <tr>\n",
       "      <th>2</th>\n",
       "      <td>2014B</td>\n",
       "      <td>1271</td>\n",
       "      <td>1149</td>\n",
       "      <td>233.00</td>\n",
       "      <td>90.401259</td>\n",
       "    </tr>\n",
       "    <tr>\n",
       "      <th>0</th>\n",
       "      <td>2013B</td>\n",
       "      <td>602</td>\n",
       "      <td>504</td>\n",
       "      <td>230.16</td>\n",
       "      <td>83.720930</td>\n",
       "    </tr>\n",
       "  </tbody>\n",
       "</table>\n",
       "</div>"
      ],
      "text/plain": [
       "  code_presentation  attempts  good_attempts  date_submitted  completion\n",
       "3             2014J      2118           1861          243.68   87.865911\n",
       "1             2013J       968            878          239.51   90.702479\n",
       "2             2014B      1271           1149          233.00   90.401259\n",
       "0             2013B       602            504          230.16   83.720930"
      ]
     },
     "execution_count": 115,
     "metadata": {},
     "output_type": "execute_result"
    }
   ],
   "source": [
    "# сортируем значения\n",
    "\n",
    "df_for_step.sort_values(['date_submitted', 'completion'], ascending = False)"
   ]
  },
  {
   "cell_type": "markdown",
   "metadata": {},
   "source": [
    "## Вывод:\n",
    "\n",
    "**Экзамены проводятся только по предметам с кодами CCC и DDD**\n",
    "\n",
    "Для семестра с кодом **2014J** выявлен самый большой срок сдачи экзаменов и составил **243.68** дней от начала семестра\n",
    "\n",
    "Для семестра с кодом **2013B** выявлена самая низкая завершаемость курса, она составила **84%** "
   ]
  },
  {
   "cell_type": "markdown",
   "metadata": {},
   "source": []
  },
  {
   "cell_type": "markdown",
   "metadata": {},
   "source": [
    "## Задание 6: Используя python, построй адаптированные RFM-кластеры студентов, чтобы качественно оценить свою аудиторию. В адаптированной кластеризации можешь выбрать следующие метрики: R - среднее время сдачи одного экзамена, F - завершаемость курсов, M - среднее количество баллов, получаемое за экзамен. Подробно опиши, как ты создавал кластеры. Для каждого RFM-сегмента построй границы метрик recency, frequency и monetary для интерпретации этих кластеров."
   ]
  },
  {
   "cell_type": "code",
   "execution_count": 33,
   "metadata": {},
   "outputs": [],
   "source": [
    "full_assessment = df1.merge(df3, how = 'left', on = 'id_assessment')"
   ]
  },
  {
   "cell_type": "code",
   "execution_count": 116,
   "metadata": {},
   "outputs": [],
   "source": [
    "# посчитал среднее время до попытки сдать экзамен, тем самым просчитав метрику Recency\n",
    "\n",
    "df_r = full_assessment.query(\"assessment_type == 'Exam'\")\\\n",
    "               .groupby('id_student')\\\n",
    "               .agg({'date_submitted':'mean'})\\\n",
    "               .reset_index()"
   ]
  },
  {
   "cell_type": "markdown",
   "metadata": {},
   "source": [
    "В следующем блоке приступил к расчету Frequency (завершаемости курсов)"
   ]
  },
  {
   "cell_type": "code",
   "execution_count": 123,
   "metadata": {},
   "outputs": [],
   "source": [
    "# расчет количества курсов, на которые зарегистрировался студент\n",
    "\n",
    "df_registr = df4.groupby(['id_student']).agg({'code_module':'count'}).reset_index()"
   ]
  },
  {
   "cell_type": "code",
   "execution_count": 124,
   "metadata": {},
   "outputs": [],
   "source": [
    "# рассчитал количество курсов, которые окончил студент\n",
    "# в условии у проекту указано, что значение NaN в колонке date_unregistration означает, что студент окончил курс\n",
    "\n",
    "df_compl = df4.query(\"date_unregistration == 'NaN'\").groupby(['id_student']).agg({'code_module':'count'}).reset_index()"
   ]
  },
  {
   "cell_type": "code",
   "execution_count": 125,
   "metadata": {},
   "outputs": [],
   "source": [
    "df_registr = df_registr.rename(columns = {'code_module':'registration'}) # присваиваю корректное название колонке"
   ]
  },
  {
   "cell_type": "code",
   "execution_count": 135,
   "metadata": {},
   "outputs": [],
   "source": [
    "df_compl = df_compl.rename(columns = {'code_module':'complete'}) # присваиваю корректное название колонке"
   ]
  },
  {
   "cell_type": "code",
   "execution_count": 136,
   "metadata": {},
   "outputs": [],
   "source": [
    "# объединяем полученные таблицы в одну для удобства интерпретации данных\n",
    "\n",
    "df_comleted_courses = df_compl.merge(df_registr)"
   ]
  },
  {
   "cell_type": "code",
   "execution_count": 137,
   "metadata": {},
   "outputs": [],
   "source": [
    "#  вычисляем завершаемость по каждому студенту\n",
    "\n",
    "df_comleted_courses['completion'] = (df_comleted_courses.complete/df_comleted_courses.registration)*100"
   ]
  },
  {
   "cell_type": "code",
   "execution_count": 138,
   "metadata": {},
   "outputs": [],
   "source": [
    "# удаляю лишние колонки, которые не нужны для анализа\n",
    "\n",
    "df_comleted_courses = df_comleted_courses.drop(columns = ['registration', 'complete'], axis = 1)"
   ]
  },
  {
   "cell_type": "code",
   "execution_count": 139,
   "metadata": {},
   "outputs": [],
   "source": [
    "df_f = df_comleted_courses"
   ]
  },
  {
   "cell_type": "markdown",
   "metadata": {},
   "source": [
    "  В предыдущих заданиях мы считали завершаемость курса путем вычисления отношения количества успешных попыток сдать экзамен к общему количеству попыток. В этом задании я рассчитал завершаемость курсов для каждого студента, а именно: посчитал общее количество курсов, на которые студент зарегистрировался, также рассчитал количество курсов, которые студент успешно сдал, а следовательно закончил курс. \n",
    "  Например: студент зарегистрировался на 3 курсах, но успешно окончил только по 2, значит его завершаемость курсов составит 2/3. Считаю, что раз мы проводим анализ АУДИТОРИИ, то и метрики, выбранные для проведения анализа должны относиться именно к аудитории."
   ]
  },
  {
   "cell_type": "code",
   "execution_count": 140,
   "metadata": {},
   "outputs": [],
   "source": [
    "# посчитал средние баллы за экзамен, тем самым рассчитал метрику Monetary \n",
    "\n",
    "df_m = full_assessment.query('assessment_type == \"Exam\"').groupby('id_student').agg({'score':'mean'}).reset_index()"
   ]
  },
  {
   "cell_type": "code",
   "execution_count": 141,
   "metadata": {},
   "outputs": [],
   "source": [
    "# объединил результаты расчета метрик в один датафрейм\n",
    "\n",
    "df_rfm = df_r.merge(df_f, how = 'left', on = 'id_student').merge(df_m).rename(columns = {'date_submitted':'Recency', 'completion':'Frequency', 'score':'Monetary'})"
   ]
  },
  {
   "cell_type": "code",
   "execution_count": 142,
   "metadata": {},
   "outputs": [
    {
     "data": {
      "text/html": [
       "<div>\n",
       "<style scoped>\n",
       "    .dataframe tbody tr th:only-of-type {\n",
       "        vertical-align: middle;\n",
       "    }\n",
       "\n",
       "    .dataframe tbody tr th {\n",
       "        vertical-align: top;\n",
       "    }\n",
       "\n",
       "    .dataframe thead th {\n",
       "        text-align: right;\n",
       "    }\n",
       "</style>\n",
       "<table border=\"1\" class=\"dataframe\">\n",
       "  <thead>\n",
       "    <tr style=\"text-align: right;\">\n",
       "      <th></th>\n",
       "      <th>id_student</th>\n",
       "      <th>Recency</th>\n",
       "      <th>Frequency</th>\n",
       "      <th>Monetary</th>\n",
       "    </tr>\n",
       "  </thead>\n",
       "  <tbody>\n",
       "    <tr>\n",
       "      <th>0</th>\n",
       "      <td>23698.0</td>\n",
       "      <td>243.0</td>\n",
       "      <td>100.0</td>\n",
       "      <td>80.0</td>\n",
       "    </tr>\n",
       "    <tr>\n",
       "      <th>1</th>\n",
       "      <td>24213.0</td>\n",
       "      <td>236.0</td>\n",
       "      <td>50.0</td>\n",
       "      <td>58.0</td>\n",
       "    </tr>\n",
       "    <tr>\n",
       "      <th>2</th>\n",
       "      <td>27116.0</td>\n",
       "      <td>243.0</td>\n",
       "      <td>100.0</td>\n",
       "      <td>96.0</td>\n",
       "    </tr>\n",
       "    <tr>\n",
       "      <th>3</th>\n",
       "      <td>28046.0</td>\n",
       "      <td>237.0</td>\n",
       "      <td>100.0</td>\n",
       "      <td>40.0</td>\n",
       "    </tr>\n",
       "    <tr>\n",
       "      <th>4</th>\n",
       "      <td>28787.0</td>\n",
       "      <td>243.0</td>\n",
       "      <td>100.0</td>\n",
       "      <td>44.0</td>\n",
       "    </tr>\n",
       "  </tbody>\n",
       "</table>\n",
       "</div>"
      ],
      "text/plain": [
       "   id_student  Recency  Frequency  Monetary\n",
       "0     23698.0    243.0      100.0      80.0\n",
       "1     24213.0    236.0       50.0      58.0\n",
       "2     27116.0    243.0      100.0      96.0\n",
       "3     28046.0    237.0      100.0      40.0\n",
       "4     28787.0    243.0      100.0      44.0"
      ]
     },
     "execution_count": 142,
     "metadata": {},
     "output_type": "execute_result"
    }
   ],
   "source": [
    "df_rfm.head()"
   ]
  },
  {
   "cell_type": "code",
   "execution_count": 149,
   "metadata": {},
   "outputs": [
    {
     "data": {
      "text/plain": [
       "{'Recency': {0.2: 231.0, 0.4: 237.0, 0.6: 242.0, 0.8: 243.5},\n",
       " 'Frequency': {0.2: 100.0, 0.4: 100.0, 0.6: 100.0, 0.8: 100.0},\n",
       " 'Monetary': {0.2: 46.200000000000045, 0.4: 60.0, 0.6: 72.0, 0.8: 84.0}}"
      ]
     },
     "execution_count": 149,
     "metadata": {},
     "output_type": "execute_result"
    }
   ],
   "source": [
    "# получаем границы метрик recency, frequency и monetary для каждого кластера методом деления на 20% квантили\n",
    "\n",
    "quintiles = df_rfm[['Recency', 'Frequency', 'Monetary']].quantile([.2, .4, .6, .8]).to_dict()\n",
    "quintiles"
   ]
  },
  {
   "cell_type": "code",
   "execution_count": 150,
   "metadata": {},
   "outputs": [],
   "source": [
    "# функции присвоения рангов \n",
    "\n",
    "def r_score(x):\n",
    "    if x <= quintiles['Recency'][.2]:\n",
    "        return 5\n",
    "    elif x <= quintiles['Recency'][.4]:\n",
    "        return 4\n",
    "    elif x <= quintiles['Recency'][.6]:\n",
    "        return 3\n",
    "    elif x <= quintiles['Recency'][.8]:\n",
    "        return 2\n",
    "    else:\n",
    "        return 1\n",
    "\n",
    "def fm_score(x, c):\n",
    "    if x <= quintiles[c][.2]:\n",
    "        return 1\n",
    "    elif x <= quintiles[c][.4]:\n",
    "        return 2\n",
    "    elif x <= quintiles[c][.6]:\n",
    "        return 3\n",
    "    elif x <= quintiles[c][.8]:\n",
    "        return 4\n",
    "    else:\n",
    "        return 5 "
   ]
  },
  {
   "cell_type": "code",
   "execution_count": 151,
   "metadata": {},
   "outputs": [],
   "source": [
    "# присваиваем ранги каждому значению в датафрейме\n",
    "\n",
    "df_rfm['R'] = df_rfm['Recency'].apply(lambda x: r_score(x))\n",
    "df_rfm['F'] = df_rfm['Frequency'].apply(lambda x: f_score(x, 'Frequency'))\n",
    "df_rfm['M'] = df_rfm['Monetary'].apply(lambda x: m_score(x, 'Monetary'))"
   ]
  },
  {
   "cell_type": "code",
   "execution_count": 154,
   "metadata": {},
   "outputs": [],
   "source": [
    "# добавляем колонку с результатами присвоения рангов\n",
    "\n",
    "df_rfm['RFM Score'] = df_rfm['R'].map(str) + df_rfm['F'].map(str) + df_rfm['M'].map(str)"
   ]
  },
  {
   "cell_type": "code",
   "execution_count": 155,
   "metadata": {},
   "outputs": [
    {
     "data": {
      "text/html": [
       "<div>\n",
       "<style scoped>\n",
       "    .dataframe tbody tr th:only-of-type {\n",
       "        vertical-align: middle;\n",
       "    }\n",
       "\n",
       "    .dataframe tbody tr th {\n",
       "        vertical-align: top;\n",
       "    }\n",
       "\n",
       "    .dataframe thead th {\n",
       "        text-align: right;\n",
       "    }\n",
       "</style>\n",
       "<table border=\"1\" class=\"dataframe\">\n",
       "  <thead>\n",
       "    <tr style=\"text-align: right;\">\n",
       "      <th></th>\n",
       "      <th>id_student</th>\n",
       "      <th>Recency</th>\n",
       "      <th>Frequency</th>\n",
       "      <th>Monetary</th>\n",
       "      <th>R</th>\n",
       "      <th>F</th>\n",
       "      <th>M</th>\n",
       "      <th>RFM Score</th>\n",
       "    </tr>\n",
       "  </thead>\n",
       "  <tbody>\n",
       "    <tr>\n",
       "      <th>0</th>\n",
       "      <td>23698.0</td>\n",
       "      <td>243.0</td>\n",
       "      <td>100.0</td>\n",
       "      <td>80.0</td>\n",
       "      <td>2</td>\n",
       "      <td>1</td>\n",
       "      <td>4</td>\n",
       "      <td>214</td>\n",
       "    </tr>\n",
       "    <tr>\n",
       "      <th>1</th>\n",
       "      <td>24213.0</td>\n",
       "      <td>236.0</td>\n",
       "      <td>50.0</td>\n",
       "      <td>58.0</td>\n",
       "      <td>4</td>\n",
       "      <td>1</td>\n",
       "      <td>2</td>\n",
       "      <td>412</td>\n",
       "    </tr>\n",
       "    <tr>\n",
       "      <th>2</th>\n",
       "      <td>27116.0</td>\n",
       "      <td>243.0</td>\n",
       "      <td>100.0</td>\n",
       "      <td>96.0</td>\n",
       "      <td>2</td>\n",
       "      <td>1</td>\n",
       "      <td>5</td>\n",
       "      <td>215</td>\n",
       "    </tr>\n",
       "    <tr>\n",
       "      <th>3</th>\n",
       "      <td>28046.0</td>\n",
       "      <td>237.0</td>\n",
       "      <td>100.0</td>\n",
       "      <td>40.0</td>\n",
       "      <td>4</td>\n",
       "      <td>1</td>\n",
       "      <td>1</td>\n",
       "      <td>411</td>\n",
       "    </tr>\n",
       "    <tr>\n",
       "      <th>4</th>\n",
       "      <td>28787.0</td>\n",
       "      <td>243.0</td>\n",
       "      <td>100.0</td>\n",
       "      <td>44.0</td>\n",
       "      <td>2</td>\n",
       "      <td>1</td>\n",
       "      <td>1</td>\n",
       "      <td>211</td>\n",
       "    </tr>\n",
       "  </tbody>\n",
       "</table>\n",
       "</div>"
      ],
      "text/plain": [
       "   id_student  Recency  Frequency  Monetary  R  F  M RFM Score\n",
       "0     23698.0    243.0      100.0      80.0  2  1  4       214\n",
       "1     24213.0    236.0       50.0      58.0  4  1  2       412\n",
       "2     27116.0    243.0      100.0      96.0  2  1  5       215\n",
       "3     28046.0    237.0      100.0      40.0  4  1  1       411\n",
       "4     28787.0    243.0      100.0      44.0  2  1  1       211"
      ]
     },
     "execution_count": 155,
     "metadata": {},
     "output_type": "execute_result"
    }
   ],
   "source": [
    "df_rfm.head()"
   ]
  },
  {
   "cell_type": "markdown",
   "metadata": {},
   "source": [
    "Я собираюсь работать с 9 сегментами на основе результатов только R и M, так как метрика F отработала так, что более 80% студентов имеют 100% завершаемость курса. Вот описание сегментов:\n",
    "\n",
    "1. **\"Мечта преподавателя\"** - быстрый, имеет высокий балл за экзамены\n",
    "2. **\"Талантливый трудяга\"** - средняя скорость, имеет высокий балл за экзамены\n",
    "3. **\"Любит подумать\"** - низкая скорость, имеет высокий балл за экзамены\n",
    "4. **\"Хорошист\"** - быстрый, имеет средний балл за экзамены \n",
    "5. **\"Трудяга\"** - средняя скорость, имеет средний балл за экзамены \n",
    "6. **\"Асфальтовый каток\"** - низкая скорость, имеет средний балл за экзамены \n",
    "7. **\"Торопыга\"** - быстрый, имеет низкий балл за экзамены\n",
    "8. **\"Переволновался\"** - средняя скорость, имеет низкий балл за экзамены\n",
    "9. **\"Всегда согласен на тройку\"** - низкая скорость, имеет низкий балл за экзамены\n",
    "\n"
   ]
  },
  {
   "cell_type": "markdown",
   "metadata": {},
   "source": [
    "Разбил аудиторию на сегменты, основанные на показателях скорости сдачи курса и средних баллах за экзамены, так как считаю, что эти две метрики позволяют создать приблизительный портрет студента. Также, изначально хотел еще использовать метрику завершаемости курсов студентами, но она оказалась практически неинформативной, так как разбить ее на адекватные квантили не удалось и все студенты получили ранг [1]."
   ]
  },
  {
   "cell_type": "code",
   "execution_count": 158,
   "metadata": {},
   "outputs": [
    {
     "data": {
      "text/html": [
       "<div>\n",
       "<style scoped>\n",
       "    .dataframe tbody tr th:only-of-type {\n",
       "        vertical-align: middle;\n",
       "    }\n",
       "\n",
       "    .dataframe tbody tr th {\n",
       "        vertical-align: top;\n",
       "    }\n",
       "\n",
       "    .dataframe thead th {\n",
       "        text-align: right;\n",
       "    }\n",
       "</style>\n",
       "<table border=\"1\" class=\"dataframe\">\n",
       "  <thead>\n",
       "    <tr style=\"text-align: right;\">\n",
       "      <th></th>\n",
       "      <th>id_student</th>\n",
       "      <th>Recency</th>\n",
       "      <th>Frequency</th>\n",
       "      <th>Monetary</th>\n",
       "      <th>R</th>\n",
       "      <th>F</th>\n",
       "      <th>M</th>\n",
       "      <th>RFM Score</th>\n",
       "      <th>Segment</th>\n",
       "    </tr>\n",
       "  </thead>\n",
       "  <tbody>\n",
       "    <tr>\n",
       "      <th>0</th>\n",
       "      <td>23698.0</td>\n",
       "      <td>243.0</td>\n",
       "      <td>100.0</td>\n",
       "      <td>80.0</td>\n",
       "      <td>2</td>\n",
       "      <td>1</td>\n",
       "      <td>4</td>\n",
       "      <td>214</td>\n",
       "      <td>Трудяга</td>\n",
       "    </tr>\n",
       "    <tr>\n",
       "      <th>1</th>\n",
       "      <td>24213.0</td>\n",
       "      <td>236.0</td>\n",
       "      <td>50.0</td>\n",
       "      <td>58.0</td>\n",
       "      <td>4</td>\n",
       "      <td>1</td>\n",
       "      <td>2</td>\n",
       "      <td>412</td>\n",
       "      <td>Торопыга</td>\n",
       "    </tr>\n",
       "    <tr>\n",
       "      <th>2</th>\n",
       "      <td>27116.0</td>\n",
       "      <td>243.0</td>\n",
       "      <td>100.0</td>\n",
       "      <td>96.0</td>\n",
       "      <td>2</td>\n",
       "      <td>1</td>\n",
       "      <td>5</td>\n",
       "      <td>215</td>\n",
       "      <td>Талантливый трудяга</td>\n",
       "    </tr>\n",
       "    <tr>\n",
       "      <th>3</th>\n",
       "      <td>28046.0</td>\n",
       "      <td>237.0</td>\n",
       "      <td>100.0</td>\n",
       "      <td>40.0</td>\n",
       "      <td>4</td>\n",
       "      <td>1</td>\n",
       "      <td>1</td>\n",
       "      <td>411</td>\n",
       "      <td>Торопыга</td>\n",
       "    </tr>\n",
       "    <tr>\n",
       "      <th>4</th>\n",
       "      <td>28787.0</td>\n",
       "      <td>243.0</td>\n",
       "      <td>100.0</td>\n",
       "      <td>44.0</td>\n",
       "      <td>2</td>\n",
       "      <td>1</td>\n",
       "      <td>1</td>\n",
       "      <td>211</td>\n",
       "      <td>Переволновался</td>\n",
       "    </tr>\n",
       "  </tbody>\n",
       "</table>\n",
       "</div>"
      ],
      "text/plain": [
       "   id_student  Recency  Frequency  Monetary  R  F  M RFM Score  \\\n",
       "0     23698.0    243.0      100.0      80.0  2  1  4       214   \n",
       "1     24213.0    236.0       50.0      58.0  4  1  2       412   \n",
       "2     27116.0    243.0      100.0      96.0  2  1  5       215   \n",
       "3     28046.0    237.0      100.0      40.0  4  1  1       411   \n",
       "4     28787.0    243.0      100.0      44.0  2  1  1       211   \n",
       "\n",
       "               Segment  \n",
       "0              Трудяга  \n",
       "1             Торопыга  \n",
       "2  Талантливый трудяга  \n",
       "3             Торопыга  \n",
       "4       Переволновался  "
      ]
     },
     "execution_count": 158,
     "metadata": {},
     "output_type": "execute_result"
    }
   ],
   "source": [
    "# создал колонку в датафрейме, в которой будет показываться \"характеристика\" студента\n",
    "\n",
    "segt_map = {\n",
    "    r'[4-5]5': 'Мечта преподавателя',\n",
    "    r'[2-3]5': 'Талантливый трудяга',\n",
    "    r'15': 'Любит подумать',\n",
    "    r'[4-5][3-4]': 'Хорошист',\n",
    "    r'[2-3][3-4]': 'Трудяга',\n",
    "    r'1[3-4]': 'Асфальтовый каток',\n",
    "    r'[4-5][1-2]': 'Торопыга',\n",
    "    r'[2-3][1-2]': 'Переволновался',\n",
    "    r'1[1-2]': 'Всегда согласен на тройку',\n",
    "}\n",
    "\n",
    "df_rfm['Segment'] = df_rfm['R'].map(str) + df_rfm['M'].map(str)\n",
    "df_rfm['Segment'] = df_rfm['Segment'].replace(segt_map, regex=True)\n",
    "df_rfm.head()"
   ]
  },
  {
   "cell_type": "code",
   "execution_count": 159,
   "metadata": {},
   "outputs": [
    {
     "data": {
      "image/png": "[encoded data removed]",
      "text/plain": [
       "<Figure size 720x288 with 2 Axes>"
      ]
     },
     "metadata": {
      "needs_background": "light"
     },
     "output_type": "display_data"
    }
   ],
   "source": [
    "# график распределения студентов по скорости сдачи курсов и средним баллам за экзамен\n",
    "\n",
    "fig, axes = plt.subplots(nrows=1, ncols=2, figsize=(10, 4))\n",
    "\n",
    "for i, p in enumerate(['R', 'M']):\n",
    "    parameters = {'R':'Recency', 'M':'Monetary'}\n",
    "    y = df_rfm[p].value_counts().sort_index()\n",
    "    x = y.index\n",
    "    ax = axes[i]\n",
    "    bars = ax.bar(x, y, color='darkolivegreen')\n",
    "    ax.set_frame_on(False)\n",
    "    ax.tick_params(left=False, labelleft=False, bottom=False)\n",
    "    ax.set_title('Distribution of {}'.format(parameters[p]),\n",
    "                fontsize=14)\n",
    "    for bar in bars:\n",
    "        value = bar.get_height()\n",
    "        if value == y.max():\n",
    "            bar.set_color('darksalmon')\n",
    "        ax.text(bar.get_x() + bar.get_width() / 2,\n",
    "                value - 5,\n",
    "                '{}\\n({}%)'.format(int(value), int(value * 100 / y.sum())),\n",
    "               ha='center',\n",
    "               va='top',\n",
    "               color='w')\n",
    "\n",
    "plt.show()"
   ]
  },
  {
   "cell_type": "markdown",
   "metadata": {},
   "source": [
    "По графикам распреления студентов можно сделать вывод о том, что 63% студентов сдают экзамены довольно быстро, но в то же время 42% студентов сдают экзамены на низкие баллы."
   ]
  },
  {
   "cell_type": "code",
   "execution_count": 161,
   "metadata": {},
   "outputs": [
    {
     "data": {
      "image/png": "[encoded data removed]",
      "text/plain": [
       "<Figure size 432x288 with 1 Axes>"
      ]
     },
     "metadata": {
      "needs_background": "light"
     },
     "output_type": "display_data"
    }
   ],
   "source": [
    "# график распределения студентов по кластерам\n",
    "\n",
    "segments_counts = df_rfm['Segment'].value_counts().sort_values(ascending=True)\n",
    "\n",
    "fig, ax = plt.subplots()\n",
    "\n",
    "bars = ax.barh(range(len(segments_counts)),\n",
    "              segments_counts,\n",
    "              color='darksalmon')\n",
    "ax.set_frame_on(False)\n",
    "ax.tick_params(left=False,\n",
    "               bottom=False,\n",
    "               labelbottom=False)\n",
    "ax.set_yticks(range(len(segments_counts)))\n",
    "ax.set_yticklabels(segments_counts.index)\n",
    "\n",
    "for i, bar in enumerate(bars):\n",
    "        value = bar.get_width()\n",
    "        if segments_counts.index[i] in ['Мечта преподавателя', 'Талантливый трудяга', 'Хорошист']:\n",
    "            bar.set_color('darkolivegreen')\n",
    "        ax.text(value,\n",
    "                bar.get_y() + bar.get_height()/2,\n",
    "                '{:,} ({:}%)'.format(int(value),\n",
    "                                   int(value*100/segments_counts.sum())),\n",
    "                va='center',\n",
    "                ha='left'\n",
    "               )\n",
    "\n",
    "plt.show()"
   ]
  },
  {
   "cell_type": "markdown",
   "metadata": {},
   "source": [
    "## Вывод по проекту и мои гипотезы:\n",
    "\n",
    "Исходя из результатов анализа аудитории можно сделать выводы о том, что большое количество студентов спешат закончить курсы и поэтому набирают мало баллов на экзамене.\n",
    "\n",
    "Мои гипотезы заключаются в том, что вероятно, на курсе слишком жесткие дедлайны, что приводит к тому, что студенты, которые накопили \"хвосты\" по темам, пытаются закрыть их уже в то время, которое следовало посвятить подготовке к экзамену. Также могу предположить, что может быть времени, отведенного на сдачу экзамена, недостаточно для его качественного решения. Еще одна гипотеза заключается в том, что курс \"сырой\" и требует поиска большого количества дополнительной информации для качественной подготовке к сдаче экзамена, а я сам, как недавний студент, знаю, что искать и тем более читать дополнительную информацию, просто лень)\n",
    "\n",
    "На графике распределения студентов по кластерам выделил зеленым цветом те кластеры, в которые студентам необходимо стремиться. Со стороны преподавателей повысить показатели принадлежности студентов к \"нужным\" кластерам можно путем небольшого послабления в дедлайнах, включения \"дополнительных\" материалов в основной курс или пересмотреть задания в экзамене.\n",
    "\n"
   ]
  }
 ],
 "metadata": {
  "kernelspec": {
   "display_name": "Python 3",
   "language": "python",
   "name": "python3"
  },
  "language_info": {
   "codemirror_mode": {
    "name": "ipython",
    "version": 3
   },
   "file_extension": ".py",
   "mimetype": "text/x-python",
   "name": "python",
   "nbconvert_exporter": "python",
   "pygments_lexer": "ipython3",
   "version": "3.7.3"
  }
 },
 "nbformat": 4,
 "nbformat_minor": 4
}
